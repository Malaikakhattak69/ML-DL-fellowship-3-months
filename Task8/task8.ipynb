{
  "nbformat": 4,
  "nbformat_minor": 0,
  "metadata": {
    "colab": {
      "provenance": []
    },
    "kernelspec": {
      "name": "python3",
      "display_name": "Python 3"
    },
    "language_info": {
      "name": "python"
    }
  },
  "cells": [
    {
      "cell_type": "code",
      "execution_count": 2,
      "metadata": {
        "colab": {
          "base_uri": "https://localhost:8080/"
        },
        "id": "xo1htFd2JXZf",
        "outputId": "2e72c407-e558-4a2d-9c5b-a329b84a25b8"
      },
      "outputs": [
        {
          "output_type": "stream",
          "name": "stdout",
          "text": [
            "1\n",
            "2\n",
            "3\n",
            "4\n",
            "5\n",
            "1\n",
            "2\n",
            "3\n",
            "4\n",
            "5\n"
          ]
        }
      ],
      "source": [
        "class MyIterator:\n",
        "    def __init__(self, start, end):\n",
        "        self.start = start\n",
        "        self.end = end\n",
        "        self.current = start\n",
        "\n",
        "    def __iter__(self):\n",
        "        return self\n",
        "\n",
        "    def __next__(self):\n",
        "        if self.current <= self.end:\n",
        "            self.current += 1\n",
        "            return self.current - 1\n",
        "        else:\n",
        "            raise StopIteration\n",
        "\n",
        "iterator = MyIterator(1, 5)\n",
        "for number in iterator:\n",
        "    print(number)\n",
        "def my_generator(start, end):\n",
        "    while start <= end:\n",
        "        yield start\n",
        "        start += 1\n",
        "for number in my_generator(1, 5):\n",
        "    print(number)\n",
        "def read_large_file(file_name):\n",
        "    with open(file_name) as file:\n",
        "        for line in file:\n",
        "            yield line\n",
        "\n"
      ]
    }
  ]
}